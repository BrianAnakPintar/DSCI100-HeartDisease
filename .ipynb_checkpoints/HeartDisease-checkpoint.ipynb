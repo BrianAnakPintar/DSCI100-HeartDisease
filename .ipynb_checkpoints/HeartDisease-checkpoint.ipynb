{
 "cells": [
  {
   "cell_type": "markdown",
   "id": "3ea01432-d700-4a1c-b0ae-d4a3f02ee4e8",
   "metadata": {
    "tags": []
   },
   "source": [
    "# DSCI-100 Project Proposal: Classifying Heart disease\n",
    "\n",
    "### Introduction:\n",
    "Explain about heart disease, what variables contribute to heart disease (etc.) Make sure to put in sources\n",
    "\n",
    "\n",
    "\n",
    "References:\n",
    "\n",
    "### Data\n",
    "Column names:\n",
    "Here are the column names:\n",
    "- age: age in years\n",
    "- ca: number of major vessels (0-3)\n",
    "- chol: serum cholestoral in mg/dl\n",
    "- cp: chest pain type \n",
    "  - Value 1: typical angina\n",
    "  - Value 2: atypical angina\n",
    "  - Value 3: non-anginal pain\n",
    "  - Value 4: asymptomatic\n",
    "- exang: exercise induced angina \n",
    "  - Value 0: no\n",
    "  - Value 1: yes\n",
    "- fbs: (fasting blood sugar > 120 mg/dl) \n",
    "  - Value 0: false\n",
    "  - Value 1: true\n",
    "- num: diagnosis of heart disease \n",
    "  - Value 0: < 50% diameter narrowing\n",
    "  - Value 1: > 50% diameter narrowing\n",
    "- oldpeak: ST depression induced by exercise relative to rest\n",
    "- restecg: resting electrocardiographic results\n",
    "  - Value 0: normal\n",
    "  - Value 1: having ST-T wave abnormality (T wave inversions and/or ST \n",
    "                    elevation or depression of > 0.05 mV)\n",
    "  - Value 2: showing probable or definite left ventricular hypertrophy\n",
    "                    by Estes' criteria\n",
    "- sex: sex\n",
    "  - Value 0 = female\n",
    "  - Value 1 = male\n",
    "- slope: the slope of the peak exercise ST segment\n",
    "  - Value 1: upsloping\n",
    "  - Value 2: flat\n",
    "  - Value 3: downsloping\n",
    "- thal\n",
    "  - Value 3: normal\n",
    "  - Value 6: fixed defect\n",
    "  - Value 7: reverseable defect\n",
    "- thalach: Maximum heart rate achieved\n",
    "- trestbps: resting blood pressure (mm Hg)\n",
    "\n",
    "Dataset retrieved from: https://archive.ics.uci.edu/ml/datasets/heart+Disease"
   ]
  },
  {
   "cell_type": "code",
   "execution_count": 1,
   "id": "67091069-e506-4d2c-914c-d387ad00067b",
   "metadata": {},
   "outputs": [
    {
     "name": "stderr",
     "output_type": "stream",
     "text": [
      "── \u001b[1mAttaching packages\u001b[22m ─────────────────────────────────────── tidyverse 1.3.1 ──\n",
      "\n",
      "\u001b[32m✔\u001b[39m \u001b[34mggplot2\u001b[39m 3.3.6     \u001b[32m✔\u001b[39m \u001b[34mpurrr  \u001b[39m 0.3.4\n",
      "\u001b[32m✔\u001b[39m \u001b[34mtibble \u001b[39m 3.1.7     \u001b[32m✔\u001b[39m \u001b[34mdplyr  \u001b[39m 1.0.9\n",
      "\u001b[32m✔\u001b[39m \u001b[34mtidyr  \u001b[39m 1.2.0     \u001b[32m✔\u001b[39m \u001b[34mstringr\u001b[39m 1.4.0\n",
      "\u001b[32m✔\u001b[39m \u001b[34mreadr  \u001b[39m 2.1.2     \u001b[32m✔\u001b[39m \u001b[34mforcats\u001b[39m 0.5.1\n",
      "\n",
      "── \u001b[1mConflicts\u001b[22m ────────────────────────────────────────── tidyverse_conflicts() ──\n",
      "\u001b[31m✖\u001b[39m \u001b[34mdplyr\u001b[39m::\u001b[32mfilter()\u001b[39m masks \u001b[34mstats\u001b[39m::filter()\n",
      "\u001b[31m✖\u001b[39m \u001b[34mdplyr\u001b[39m::\u001b[32mlag()\u001b[39m    masks \u001b[34mstats\u001b[39m::lag()\n",
      "\n",
      "── \u001b[1mAttaching packages\u001b[22m ────────────────────────────────────── tidymodels 1.0.0 ──\n",
      "\n",
      "\u001b[32m✔\u001b[39m \u001b[34mbroom       \u001b[39m 1.0.0     \u001b[32m✔\u001b[39m \u001b[34mrsample     \u001b[39m 1.0.0\n",
      "\u001b[32m✔\u001b[39m \u001b[34mdials       \u001b[39m 1.0.0     \u001b[32m✔\u001b[39m \u001b[34mtune        \u001b[39m 1.0.0\n",
      "\u001b[32m✔\u001b[39m \u001b[34minfer       \u001b[39m 1.0.2     \u001b[32m✔\u001b[39m \u001b[34mworkflows   \u001b[39m 1.0.0\n",
      "\u001b[32m✔\u001b[39m \u001b[34mmodeldata   \u001b[39m 1.0.0     \u001b[32m✔\u001b[39m \u001b[34mworkflowsets\u001b[39m 1.0.0\n",
      "\u001b[32m✔\u001b[39m \u001b[34mparsnip     \u001b[39m 1.0.0     \u001b[32m✔\u001b[39m \u001b[34myardstick   \u001b[39m 1.0.0\n",
      "\u001b[32m✔\u001b[39m \u001b[34mrecipes     \u001b[39m 1.0.1     \n",
      "\n",
      "── \u001b[1mConflicts\u001b[22m ───────────────────────────────────────── tidymodels_conflicts() ──\n",
      "\u001b[31m✖\u001b[39m \u001b[34mscales\u001b[39m::\u001b[32mdiscard()\u001b[39m masks \u001b[34mpurrr\u001b[39m::discard()\n",
      "\u001b[31m✖\u001b[39m \u001b[34mdplyr\u001b[39m::\u001b[32mfilter()\u001b[39m   masks \u001b[34mstats\u001b[39m::filter()\n",
      "\u001b[31m✖\u001b[39m \u001b[34mrecipes\u001b[39m::\u001b[32mfixed()\u001b[39m  masks \u001b[34mstringr\u001b[39m::fixed()\n",
      "\u001b[31m✖\u001b[39m \u001b[34mdplyr\u001b[39m::\u001b[32mlag()\u001b[39m      masks \u001b[34mstats\u001b[39m::lag()\n",
      "\u001b[31m✖\u001b[39m \u001b[34myardstick\u001b[39m::\u001b[32mspec()\u001b[39m masks \u001b[34mreadr\u001b[39m::spec()\n",
      "\u001b[31m✖\u001b[39m \u001b[34mrecipes\u001b[39m::\u001b[32mstep()\u001b[39m   masks \u001b[34mstats\u001b[39m::step()\n",
      "\u001b[34m•\u001b[39m Use suppressPackageStartupMessages() to eliminate package startup messages\n",
      "\n"
     ]
    }
   ],
   "source": [
    "# Load all libraries\n",
    "library(repr)\n",
    "library(tidyverse)\n",
    "library(tidymodels)\n",
    "options(repr.matrix.max.rows = 6)"
   ]
  },
  {
   "cell_type": "code",
   "execution_count": 3,
   "id": "4d07affe-f174-4535-86fe-91dc88380803",
   "metadata": {},
   "outputs": [
    {
     "name": "stderr",
     "output_type": "stream",
     "text": [
      "\u001b[1mRows: \u001b[22m\u001b[34m123\u001b[39m \u001b[1mColumns: \u001b[22m\u001b[34m14\u001b[39m\n",
      "\u001b[36m──\u001b[39m \u001b[1mColumn specification\u001b[22m \u001b[36m────────────────────────────────────────────────────────\u001b[39m\n",
      "\u001b[1mDelimiter:\u001b[22m \",\"\n",
      "\u001b[31mchr\u001b[39m (9): trestbps, fbs, restecg, thalach, exang, oldpeak, slope, ca, thal\n",
      "\u001b[32mdbl\u001b[39m (5): age, sex, cp, chol, num\n",
      "\n",
      "\u001b[36mℹ\u001b[39m Use `spec()` to retrieve the full column specification for this data.\n",
      "\u001b[36mℹ\u001b[39m Specify the column types or set `show_col_types = FALSE` to quiet this message.\n"
     ]
    },
    {
     "data": {
      "text/html": [
       "<table class=\"dataframe\">\n",
       "<caption>A spec_tbl_df: 123 × 14</caption>\n",
       "<thead>\n",
       "\t<tr><th scope=col>age</th><th scope=col>sex</th><th scope=col>cp</th><th scope=col>trestbps</th><th scope=col>chol</th><th scope=col>fbs</th><th scope=col>restecg</th><th scope=col>thalach</th><th scope=col>exang</th><th scope=col>oldpeak</th><th scope=col>slope</th><th scope=col>ca</th><th scope=col>thal</th><th scope=col>num</th></tr>\n",
       "\t<tr><th scope=col>&lt;dbl&gt;</th><th scope=col>&lt;dbl&gt;</th><th scope=col>&lt;dbl&gt;</th><th scope=col>&lt;chr&gt;</th><th scope=col>&lt;dbl&gt;</th><th scope=col>&lt;chr&gt;</th><th scope=col>&lt;chr&gt;</th><th scope=col>&lt;chr&gt;</th><th scope=col>&lt;chr&gt;</th><th scope=col>&lt;chr&gt;</th><th scope=col>&lt;chr&gt;</th><th scope=col>&lt;chr&gt;</th><th scope=col>&lt;chr&gt;</th><th scope=col>&lt;dbl&gt;</th></tr>\n",
       "</thead>\n",
       "<tbody>\n",
       "\t<tr><td>32</td><td>1</td><td>1</td><td>95 </td><td>0</td><td>NA</td><td>0 </td><td>127</td><td>0</td><td>.7</td><td>1 </td><td>NA</td><td>NA</td><td>1</td></tr>\n",
       "\t<tr><td>34</td><td>1</td><td>4</td><td>115</td><td>0</td><td>NA</td><td>NA</td><td>154</td><td>0</td><td>.2</td><td>1 </td><td>NA</td><td>NA</td><td>1</td></tr>\n",
       "\t<tr><td>35</td><td>1</td><td>4</td><td>NA </td><td>0</td><td>NA</td><td>0 </td><td>130</td><td>1</td><td>NA</td><td>NA</td><td>NA</td><td>7 </td><td>3</td></tr>\n",
       "\t<tr><td>⋮</td><td>⋮</td><td>⋮</td><td>⋮</td><td>⋮</td><td>⋮</td><td>⋮</td><td>⋮</td><td>⋮</td><td>⋮</td><td>⋮</td><td>⋮</td><td>⋮</td><td>⋮</td></tr>\n",
       "\t<tr><td>72</td><td>1</td><td>3</td><td>160</td><td>0</td><td>NA</td><td>2</td><td>114</td><td>0</td><td>1.6</td><td>2</td><td>2 </td><td>NA</td><td>0</td></tr>\n",
       "\t<tr><td>73</td><td>0</td><td>3</td><td>160</td><td>0</td><td>0 </td><td>1</td><td>121</td><td>0</td><td>0  </td><td>1</td><td>NA</td><td>3 </td><td>1</td></tr>\n",
       "\t<tr><td>74</td><td>1</td><td>2</td><td>145</td><td>0</td><td>NA</td><td>1</td><td>123</td><td>0</td><td>1.3</td><td>1</td><td>NA</td><td>NA</td><td>1</td></tr>\n",
       "</tbody>\n",
       "</table>\n"
      ],
      "text/latex": [
       "A spec\\_tbl\\_df: 123 × 14\n",
       "\\begin{tabular}{llllllllllllll}\n",
       " age & sex & cp & trestbps & chol & fbs & restecg & thalach & exang & oldpeak & slope & ca & thal & num\\\\\n",
       " <dbl> & <dbl> & <dbl> & <chr> & <dbl> & <chr> & <chr> & <chr> & <chr> & <chr> & <chr> & <chr> & <chr> & <dbl>\\\\\n",
       "\\hline\n",
       "\t 32 & 1 & 1 & 95  & 0 & NA & 0  & 127 & 0 & .7 & 1  & NA & NA & 1\\\\\n",
       "\t 34 & 1 & 4 & 115 & 0 & NA & NA & 154 & 0 & .2 & 1  & NA & NA & 1\\\\\n",
       "\t 35 & 1 & 4 & NA  & 0 & NA & 0  & 130 & 1 & NA & NA & NA & 7  & 3\\\\\n",
       "\t ⋮ & ⋮ & ⋮ & ⋮ & ⋮ & ⋮ & ⋮ & ⋮ & ⋮ & ⋮ & ⋮ & ⋮ & ⋮ & ⋮\\\\\n",
       "\t 72 & 1 & 3 & 160 & 0 & NA & 2 & 114 & 0 & 1.6 & 2 & 2  & NA & 0\\\\\n",
       "\t 73 & 0 & 3 & 160 & 0 & 0  & 1 & 121 & 0 & 0   & 1 & NA & 3  & 1\\\\\n",
       "\t 74 & 1 & 2 & 145 & 0 & NA & 1 & 123 & 0 & 1.3 & 1 & NA & NA & 1\\\\\n",
       "\\end{tabular}\n"
      ],
      "text/markdown": [
       "\n",
       "A spec_tbl_df: 123 × 14\n",
       "\n",
       "| age &lt;dbl&gt; | sex &lt;dbl&gt; | cp &lt;dbl&gt; | trestbps &lt;chr&gt; | chol &lt;dbl&gt; | fbs &lt;chr&gt; | restecg &lt;chr&gt; | thalach &lt;chr&gt; | exang &lt;chr&gt; | oldpeak &lt;chr&gt; | slope &lt;chr&gt; | ca &lt;chr&gt; | thal &lt;chr&gt; | num &lt;dbl&gt; |\n",
       "|---|---|---|---|---|---|---|---|---|---|---|---|---|---|\n",
       "| 32 | 1 | 1 | 95  | 0 | NA | 0  | 127 | 0 | .7 | 1  | NA | NA | 1 |\n",
       "| 34 | 1 | 4 | 115 | 0 | NA | NA | 154 | 0 | .2 | 1  | NA | NA | 1 |\n",
       "| 35 | 1 | 4 | NA  | 0 | NA | 0  | 130 | 1 | NA | NA | NA | 7  | 3 |\n",
       "| ⋮ | ⋮ | ⋮ | ⋮ | ⋮ | ⋮ | ⋮ | ⋮ | ⋮ | ⋮ | ⋮ | ⋮ | ⋮ | ⋮ |\n",
       "| 72 | 1 | 3 | 160 | 0 | NA | 2 | 114 | 0 | 1.6 | 2 | 2  | NA | 0 |\n",
       "| 73 | 0 | 3 | 160 | 0 | 0  | 1 | 121 | 0 | 0   | 1 | NA | 3  | 1 |\n",
       "| 74 | 1 | 2 | 145 | 0 | NA | 1 | 123 | 0 | 1.3 | 1 | NA | NA | 1 |\n",
       "\n"
      ],
      "text/plain": [
       "    age sex cp trestbps chol fbs restecg thalach exang oldpeak slope ca thal\n",
       "1   32  1   1  95       0    NA  0       127     0     .7      1     NA NA  \n",
       "2   34  1   4  115      0    NA  NA      154     0     .2      1     NA NA  \n",
       "3   35  1   4  NA       0    NA  0       130     1     NA      NA    NA 7   \n",
       "⋮   ⋮   ⋮   ⋮  ⋮        ⋮    ⋮   ⋮       ⋮       ⋮     ⋮       ⋮     ⋮  ⋮   \n",
       "121 72  1   3  160      0    NA  2       114     0     1.6     2     2  NA  \n",
       "122 73  0   3  160      0    0   1       121     0     0       1     NA 3   \n",
       "123 74  1   2  145      0    NA  1       123     0     1.3     1     NA NA  \n",
       "    num\n",
       "1   1  \n",
       "2   1  \n",
       "3   3  \n",
       "⋮   ⋮  \n",
       "121 0  \n",
       "122 1  \n",
       "123 1  "
      ]
     },
     "metadata": {},
     "output_type": "display_data"
    }
   ],
   "source": [
    "# Load the dataset and set it's column names accordingly:\n",
    "heart_all_data <- read_csv(\"data/processed.switzerland.data\",\n",
    "                  col_names = c(\"age\", \"sex\", \"cp\", \"trestbps\", \"chol\", \n",
    "                              \"fbs\", \"restecg\", \"thalach\", \"exang\", \n",
    "                              \"oldpeak\", \"slope\", \"ca\", \"thal\", \n",
    "                              \"num\"))\n",
    "# Change all ? into NA\n",
    "heart_all_data[heart_all_data == \"?\"] <- NA\n",
    "\n",
    "heart_all_data"
   ]
  },
  {
   "cell_type": "code",
   "execution_count": null,
   "id": "a206efa2-b764-4159-8f36-63e72f6f0a29",
   "metadata": {},
   "outputs": [],
   "source": [
    "# Select and mutate columns that we're interested in into their appropriate datatypes\n",
    "# Age, oldpeak, cholestrol\n",
    "\n",
    "heart_data <- heart_all_data |>\n",
    "              select(age, oldpeak, chol, num) |>\n",
    "              mutate(a"
   ]
  },
  {
   "cell_type": "code",
   "execution_count": null,
   "id": "02fc6c9a-d369-40d0-8892-668cb4265c9a",
   "metadata": {},
   "outputs": [],
   "source": []
  }
 ],
 "metadata": {
  "kernelspec": {
   "display_name": "R",
   "language": "R",
   "name": "ir"
  },
  "language_info": {
   "codemirror_mode": "r",
   "file_extension": ".r",
   "mimetype": "text/x-r-source",
   "name": "R",
   "pygments_lexer": "r",
   "version": "4.1.3"
  }
 },
 "nbformat": 4,
 "nbformat_minor": 5
}
