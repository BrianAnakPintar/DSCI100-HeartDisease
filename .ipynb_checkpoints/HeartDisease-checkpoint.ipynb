{
 "cells": [
  {
   "cell_type": "markdown",
   "id": "3ea01432-d700-4a1c-b0ae-d4a3f02ee4e8",
   "metadata": {
    "tags": []
   },
   "source": [
    "# DSCI-100 Project Proposal: Classifying Heart disease\n",
    "\n",
    "### Introduction:\n",
    "In this project, we are trying to predict the likelihood of an individual to have heart disease based on their age, cholesterol levels, and ST depression induced by exercise relative to rest. \n",
    "Coronary heart disease, or most commonly referred to as heart disease, refers to various conditions that affect the heart, including but not limited to diseases related to the blood vessel, heartbeat frequency, heart muscles, heart valve and predetermined birth defects. Most of the conditions can be prevented or treated with lifestyle changes. Anatomically, heart disease is caused by atherosclerosis, the build-up of fatty deposit in the walls of the coronary arteries.\n",
    "Accordingly, age and the likelihood of having a heart disease have a positive correlation as aging can cause changes to the blood vessels and the heart. Cholesterol is a lipid that provides vital functions to the cells in the body, such as maintaining structure and membrane fluidity. However, an excessive amount of blood cholesterol can create the fatty deposit. Lastly, ST depression refers to the findings on an electrocardiogram. A valid ECG finding for the identification of obstructive coronary atherosclerosis is exercise-induced ST segment depression. Additionally, it has been linked to a worse outcome for patients with known coronary artery disease.\n",
    "The dataset that we are using is the Hungarian data, collected on March 15, 1990, reprocessed on July 23, 1996. The database originally contains 76 attributes, but all published experiments refer to using a subset of 14.\n",
    "\n",
    "\n",
    "References:\n",
    "\n",
    "### Data\n",
    "Column names:\n",
    "Here are the column names:\n",
    "- age: age in years\n",
    "- ca: number of major vessels (0-3)\n",
    "- chol: serum cholestoral in mg/dl\n",
    "- cp: chest pain type \n",
    "  - Value 1: typical angina\n",
    "  - Value 2: atypical angina\n",
    "  - Value 3: non-anginal pain\n",
    "  - Value 4: asymptomatic\n",
    "- exang: exercise induced angina \n",
    "  - Value 0: no\n",
    "  - Value 1: yes\n",
    "- fbs: (fasting blood sugar > 120 mg/dl) \n",
    "  - Value 0: false\n",
    "  - Value 1: true\n",
    "- num: diagnosis of heart disease \n",
    "  - Value 0: < 50% diameter narrowing\n",
    "  - Value 1: > 50% diameter narrowing\n",
    "- oldpeak: ST depression induced by exercise relative to rest\n",
    "- restecg: resting electrocardiographic results\n",
    "  - Value 0: normal\n",
    "  - Value 1: having ST-T wave abnormality (T wave inversions and/or ST \n",
    "                    elevation or depression of > 0.05 mV)\n",
    "  - Value 2: showing probable or definite left ventricular hypertrophy\n",
    "                    by Estes' criteria\n",
    "- sex: sex\n",
    "  - Value 0 = female\n",
    "  - Value 1 = male\n",
    "- slope: the slope of the peak exercise ST segment\n",
    "  - Value 1: upsloping\n",
    "  - Value 2: flat\n",
    "  - Value 3: downsloping\n",
    "- thal\n",
    "  - Value 3: normal\n",
    "  - Value 6: fixed defect\n",
    "  - Value 7: reverseable defect\n",
    "- thalach: Maximum heart rate achieved\n",
    "- trestbps: resting blood pressure (mm Hg)\n",
    "\n",
    "Dataset retrieved from: https://archive.ics.uci.edu/ml/datasets/heart+Disease"
   ]
  },
  {
   "cell_type": "markdown",
   "id": "3855d2c4-7b72-4782-8a6b-05dd0d6c8206",
   "metadata": {},
   "source": [
    "# Preliminary exploratory data analysis"
   ]
  },
  {
   "cell_type": "code",
   "execution_count": 1,
   "id": "67091069-e506-4d2c-914c-d387ad00067b",
   "metadata": {},
   "outputs": [
    {
     "name": "stderr",
     "output_type": "stream",
     "text": [
      "── \u001b[1mAttaching packages\u001b[22m ─────────────────────────────────────── tidyverse 1.3.1 ──\n",
      "\n",
      "\u001b[32m✔\u001b[39m \u001b[34mggplot2\u001b[39m 3.3.6     \u001b[32m✔\u001b[39m \u001b[34mpurrr  \u001b[39m 0.3.4\n",
      "\u001b[32m✔\u001b[39m \u001b[34mtibble \u001b[39m 3.1.7     \u001b[32m✔\u001b[39m \u001b[34mdplyr  \u001b[39m 1.0.9\n",
      "\u001b[32m✔\u001b[39m \u001b[34mtidyr  \u001b[39m 1.2.0     \u001b[32m✔\u001b[39m \u001b[34mstringr\u001b[39m 1.4.0\n",
      "\u001b[32m✔\u001b[39m \u001b[34mreadr  \u001b[39m 2.1.2     \u001b[32m✔\u001b[39m \u001b[34mforcats\u001b[39m 0.5.1\n",
      "\n",
      "── \u001b[1mConflicts\u001b[22m ────────────────────────────────────────── tidyverse_conflicts() ──\n",
      "\u001b[31m✖\u001b[39m \u001b[34mdplyr\u001b[39m::\u001b[32mfilter()\u001b[39m masks \u001b[34mstats\u001b[39m::filter()\n",
      "\u001b[31m✖\u001b[39m \u001b[34mdplyr\u001b[39m::\u001b[32mlag()\u001b[39m    masks \u001b[34mstats\u001b[39m::lag()\n",
      "\n",
      "── \u001b[1mAttaching packages\u001b[22m ────────────────────────────────────── tidymodels 1.0.0 ──\n",
      "\n",
      "\u001b[32m✔\u001b[39m \u001b[34mbroom       \u001b[39m 1.0.0     \u001b[32m✔\u001b[39m \u001b[34mrsample     \u001b[39m 1.0.0\n",
      "\u001b[32m✔\u001b[39m \u001b[34mdials       \u001b[39m 1.0.0     \u001b[32m✔\u001b[39m \u001b[34mtune        \u001b[39m 1.0.0\n",
      "\u001b[32m✔\u001b[39m \u001b[34minfer       \u001b[39m 1.0.2     \u001b[32m✔\u001b[39m \u001b[34mworkflows   \u001b[39m 1.0.0\n",
      "\u001b[32m✔\u001b[39m \u001b[34mmodeldata   \u001b[39m 1.0.0     \u001b[32m✔\u001b[39m \u001b[34mworkflowsets\u001b[39m 1.0.0\n",
      "\u001b[32m✔\u001b[39m \u001b[34mparsnip     \u001b[39m 1.0.0     \u001b[32m✔\u001b[39m \u001b[34myardstick   \u001b[39m 1.0.0\n",
      "\u001b[32m✔\u001b[39m \u001b[34mrecipes     \u001b[39m 1.0.1     \n",
      "\n",
      "── \u001b[1mConflicts\u001b[22m ───────────────────────────────────────── tidymodels_conflicts() ──\n",
      "\u001b[31m✖\u001b[39m \u001b[34mscales\u001b[39m::\u001b[32mdiscard()\u001b[39m masks \u001b[34mpurrr\u001b[39m::discard()\n",
      "\u001b[31m✖\u001b[39m \u001b[34mdplyr\u001b[39m::\u001b[32mfilter()\u001b[39m   masks \u001b[34mstats\u001b[39m::filter()\n",
      "\u001b[31m✖\u001b[39m \u001b[34mrecipes\u001b[39m::\u001b[32mfixed()\u001b[39m  masks \u001b[34mstringr\u001b[39m::fixed()\n",
      "\u001b[31m✖\u001b[39m \u001b[34mdplyr\u001b[39m::\u001b[32mlag()\u001b[39m      masks \u001b[34mstats\u001b[39m::lag()\n",
      "\u001b[31m✖\u001b[39m \u001b[34myardstick\u001b[39m::\u001b[32mspec()\u001b[39m masks \u001b[34mreadr\u001b[39m::spec()\n",
      "\u001b[31m✖\u001b[39m \u001b[34mrecipes\u001b[39m::\u001b[32mstep()\u001b[39m   masks \u001b[34mstats\u001b[39m::step()\n",
      "\u001b[34m•\u001b[39m Dig deeper into tidy modeling with R at \u001b[32mhttps://www.tmwr.org\u001b[39m\n",
      "\n"
     ]
    }
   ],
   "source": [
    "# Load all libraries\n",
    "library(repr)\n",
    "library(tidyverse)\n",
    "library(tidymodels)\n",
    "options(repr.matrix.max.rows = 6)"
   ]
  },
  {
   "cell_type": "code",
   "execution_count": 2,
   "id": "4d07affe-f174-4535-86fe-91dc88380803",
   "metadata": {},
   "outputs": [
    {
     "name": "stderr",
     "output_type": "stream",
     "text": [
      "\u001b[1mRows: \u001b[22m\u001b[34m294\u001b[39m \u001b[1mColumns: \u001b[22m\u001b[34m14\u001b[39m\n",
      "\u001b[36m──\u001b[39m \u001b[1mColumn specification\u001b[22m \u001b[36m────────────────────────────────────────────────────────\u001b[39m\n",
      "\u001b[1mDelimiter:\u001b[22m \" \"\n",
      "\u001b[32mdbl\u001b[39m (14): age, sex, cp, trestbps, chol, fbs, restecg, thalach, exang, oldpea...\n",
      "\n",
      "\u001b[36mℹ\u001b[39m Use `spec()` to retrieve the full column specification for this data.\n",
      "\u001b[36mℹ\u001b[39m Specify the column types or set `show_col_types = FALSE` to quiet this message.\n"
     ]
    },
    {
     "data": {
      "text/html": [
       "<table class=\"dataframe\">\n",
       "<caption>A spec_tbl_df: 294 × 14</caption>\n",
       "<thead>\n",
       "\t<tr><th scope=col>age</th><th scope=col>sex</th><th scope=col>cp</th><th scope=col>trestbps</th><th scope=col>chol</th><th scope=col>fbs</th><th scope=col>restecg</th><th scope=col>thalach</th><th scope=col>exang</th><th scope=col>oldpeak</th><th scope=col>slope</th><th scope=col>ca</th><th scope=col>thal</th><th scope=col>num</th></tr>\n",
       "\t<tr><th scope=col>&lt;dbl&gt;</th><th scope=col>&lt;dbl&gt;</th><th scope=col>&lt;dbl&gt;</th><th scope=col>&lt;dbl&gt;</th><th scope=col>&lt;dbl&gt;</th><th scope=col>&lt;dbl&gt;</th><th scope=col>&lt;dbl&gt;</th><th scope=col>&lt;dbl&gt;</th><th scope=col>&lt;dbl&gt;</th><th scope=col>&lt;dbl&gt;</th><th scope=col>&lt;dbl&gt;</th><th scope=col>&lt;dbl&gt;</th><th scope=col>&lt;dbl&gt;</th><th scope=col>&lt;dbl&gt;</th></tr>\n",
       "</thead>\n",
       "<tbody>\n",
       "\t<tr><td>40</td><td>1</td><td>2</td><td>140</td><td>289</td><td>0</td><td>0</td><td>172</td><td>0</td><td>0</td><td>-9</td><td>-9</td><td>-9</td><td>0</td></tr>\n",
       "\t<tr><td>49</td><td>0</td><td>3</td><td>160</td><td>180</td><td>0</td><td>0</td><td>156</td><td>0</td><td>1</td><td> 2</td><td>-9</td><td>-9</td><td>1</td></tr>\n",
       "\t<tr><td>37</td><td>1</td><td>2</td><td>130</td><td>283</td><td>0</td><td>1</td><td> 98</td><td>0</td><td>0</td><td>-9</td><td>-9</td><td>-9</td><td>0</td></tr>\n",
       "\t<tr><td>⋮</td><td>⋮</td><td>⋮</td><td>⋮</td><td>⋮</td><td>⋮</td><td>⋮</td><td>⋮</td><td>⋮</td><td>⋮</td><td>⋮</td><td>⋮</td><td>⋮</td><td>⋮</td></tr>\n",
       "\t<tr><td>48</td><td>1</td><td>3</td><td>110</td><td>211</td><td>0</td><td>0</td><td>138</td><td>0</td><td>0</td><td>-9</td><td>-9</td><td> 6</td><td>0</td></tr>\n",
       "\t<tr><td>47</td><td>0</td><td>2</td><td>140</td><td>257</td><td>0</td><td>0</td><td>135</td><td>0</td><td>1</td><td> 1</td><td>-9</td><td>-9</td><td>0</td></tr>\n",
       "\t<tr><td>53</td><td>1</td><td>4</td><td>130</td><td>182</td><td>0</td><td>0</td><td>148</td><td>0</td><td>0</td><td>-9</td><td>-9</td><td>-9</td><td>0</td></tr>\n",
       "</tbody>\n",
       "</table>\n"
      ],
      "text/latex": [
       "A spec\\_tbl\\_df: 294 × 14\n",
       "\\begin{tabular}{llllllllllllll}\n",
       " age & sex & cp & trestbps & chol & fbs & restecg & thalach & exang & oldpeak & slope & ca & thal & num\\\\\n",
       " <dbl> & <dbl> & <dbl> & <dbl> & <dbl> & <dbl> & <dbl> & <dbl> & <dbl> & <dbl> & <dbl> & <dbl> & <dbl> & <dbl>\\\\\n",
       "\\hline\n",
       "\t 40 & 1 & 2 & 140 & 289 & 0 & 0 & 172 & 0 & 0 & -9 & -9 & -9 & 0\\\\\n",
       "\t 49 & 0 & 3 & 160 & 180 & 0 & 0 & 156 & 0 & 1 &  2 & -9 & -9 & 1\\\\\n",
       "\t 37 & 1 & 2 & 130 & 283 & 0 & 1 &  98 & 0 & 0 & -9 & -9 & -9 & 0\\\\\n",
       "\t ⋮ & ⋮ & ⋮ & ⋮ & ⋮ & ⋮ & ⋮ & ⋮ & ⋮ & ⋮ & ⋮ & ⋮ & ⋮ & ⋮\\\\\n",
       "\t 48 & 1 & 3 & 110 & 211 & 0 & 0 & 138 & 0 & 0 & -9 & -9 &  6 & 0\\\\\n",
       "\t 47 & 0 & 2 & 140 & 257 & 0 & 0 & 135 & 0 & 1 &  1 & -9 & -9 & 0\\\\\n",
       "\t 53 & 1 & 4 & 130 & 182 & 0 & 0 & 148 & 0 & 0 & -9 & -9 & -9 & 0\\\\\n",
       "\\end{tabular}\n"
      ],
      "text/markdown": [
       "\n",
       "A spec_tbl_df: 294 × 14\n",
       "\n",
       "| age &lt;dbl&gt; | sex &lt;dbl&gt; | cp &lt;dbl&gt; | trestbps &lt;dbl&gt; | chol &lt;dbl&gt; | fbs &lt;dbl&gt; | restecg &lt;dbl&gt; | thalach &lt;dbl&gt; | exang &lt;dbl&gt; | oldpeak &lt;dbl&gt; | slope &lt;dbl&gt; | ca &lt;dbl&gt; | thal &lt;dbl&gt; | num &lt;dbl&gt; |\n",
       "|---|---|---|---|---|---|---|---|---|---|---|---|---|---|\n",
       "| 40 | 1 | 2 | 140 | 289 | 0 | 0 | 172 | 0 | 0 | -9 | -9 | -9 | 0 |\n",
       "| 49 | 0 | 3 | 160 | 180 | 0 | 0 | 156 | 0 | 1 |  2 | -9 | -9 | 1 |\n",
       "| 37 | 1 | 2 | 130 | 283 | 0 | 1 |  98 | 0 | 0 | -9 | -9 | -9 | 0 |\n",
       "| ⋮ | ⋮ | ⋮ | ⋮ | ⋮ | ⋮ | ⋮ | ⋮ | ⋮ | ⋮ | ⋮ | ⋮ | ⋮ | ⋮ |\n",
       "| 48 | 1 | 3 | 110 | 211 | 0 | 0 | 138 | 0 | 0 | -9 | -9 |  6 | 0 |\n",
       "| 47 | 0 | 2 | 140 | 257 | 0 | 0 | 135 | 0 | 1 |  1 | -9 | -9 | 0 |\n",
       "| 53 | 1 | 4 | 130 | 182 | 0 | 0 | 148 | 0 | 0 | -9 | -9 | -9 | 0 |\n",
       "\n"
      ],
      "text/plain": [
       "    age sex cp trestbps chol fbs restecg thalach exang oldpeak slope ca thal\n",
       "1   40  1   2  140      289  0   0       172     0     0       -9    -9 -9  \n",
       "2   49  0   3  160      180  0   0       156     0     1        2    -9 -9  \n",
       "3   37  1   2  130      283  0   1        98     0     0       -9    -9 -9  \n",
       "⋮   ⋮   ⋮   ⋮  ⋮        ⋮    ⋮   ⋮       ⋮       ⋮     ⋮       ⋮     ⋮  ⋮   \n",
       "292 48  1   3  110      211  0   0       138     0     0       -9    -9  6  \n",
       "293 47  0   2  140      257  0   0       135     0     1        1    -9 -9  \n",
       "294 53  1   4  130      182  0   0       148     0     0       -9    -9 -9  \n",
       "    num\n",
       "1   0  \n",
       "2   1  \n",
       "3   0  \n",
       "⋮   ⋮  \n",
       "292 0  \n",
       "293 0  \n",
       "294 0  "
      ]
     },
     "metadata": {},
     "output_type": "display_data"
    }
   ],
   "source": [
    "# Load the dataset and set it's column names accordingly:\n",
    "heart_all_data <- read_delim(\"data/reprocessed.hungarian.data\", delim=\" \",\n",
    "                  col_names = c(\"age\", \"sex\", \"cp\", \"trestbps\", \"chol\", \n",
    "                              \"fbs\", \"restecg\", \"thalach\", \"exang\", \n",
    "                              \"oldpeak\", \"slope\", \"ca\", \"thal\", \n",
    "                              \"num\"))\n",
    "heart_all_data"
   ]
  },
  {
   "cell_type": "code",
   "execution_count": 3,
   "id": "a206efa2-b764-4159-8f36-63e72f6f0a29",
   "metadata": {},
   "outputs": [
    {
     "data": {
      "text/html": [
       "<table class=\"dataframe\">\n",
       "<caption>A tibble: 294 × 4</caption>\n",
       "<thead>\n",
       "\t<tr><th scope=col>age</th><th scope=col>oldpeak</th><th scope=col>chol</th><th scope=col>num</th></tr>\n",
       "\t<tr><th scope=col>&lt;int&gt;</th><th scope=col>&lt;dbl&gt;</th><th scope=col>&lt;int&gt;</th><th scope=col>&lt;fct&gt;</th></tr>\n",
       "</thead>\n",
       "<tbody>\n",
       "\t<tr><td>40</td><td>0</td><td>289</td><td>0</td></tr>\n",
       "\t<tr><td>49</td><td>1</td><td>180</td><td>1</td></tr>\n",
       "\t<tr><td>37</td><td>0</td><td>283</td><td>0</td></tr>\n",
       "\t<tr><td>⋮</td><td>⋮</td><td>⋮</td><td>⋮</td></tr>\n",
       "\t<tr><td>48</td><td>0</td><td>211</td><td>0</td></tr>\n",
       "\t<tr><td>47</td><td>1</td><td>257</td><td>0</td></tr>\n",
       "\t<tr><td>53</td><td>0</td><td>182</td><td>0</td></tr>\n",
       "</tbody>\n",
       "</table>\n"
      ],
      "text/latex": [
       "A tibble: 294 × 4\n",
       "\\begin{tabular}{llll}\n",
       " age & oldpeak & chol & num\\\\\n",
       " <int> & <dbl> & <int> & <fct>\\\\\n",
       "\\hline\n",
       "\t 40 & 0 & 289 & 0\\\\\n",
       "\t 49 & 1 & 180 & 1\\\\\n",
       "\t 37 & 0 & 283 & 0\\\\\n",
       "\t ⋮ & ⋮ & ⋮ & ⋮\\\\\n",
       "\t 48 & 0 & 211 & 0\\\\\n",
       "\t 47 & 1 & 257 & 0\\\\\n",
       "\t 53 & 0 & 182 & 0\\\\\n",
       "\\end{tabular}\n"
      ],
      "text/markdown": [
       "\n",
       "A tibble: 294 × 4\n",
       "\n",
       "| age &lt;int&gt; | oldpeak &lt;dbl&gt; | chol &lt;int&gt; | num &lt;fct&gt; |\n",
       "|---|---|---|---|\n",
       "| 40 | 0 | 289 | 0 |\n",
       "| 49 | 1 | 180 | 1 |\n",
       "| 37 | 0 | 283 | 0 |\n",
       "| ⋮ | ⋮ | ⋮ | ⋮ |\n",
       "| 48 | 0 | 211 | 0 |\n",
       "| 47 | 1 | 257 | 0 |\n",
       "| 53 | 0 | 182 | 0 |\n",
       "\n"
      ],
      "text/plain": [
       "    age oldpeak chol num\n",
       "1   40  0       289  0  \n",
       "2   49  1       180  1  \n",
       "3   37  0       283  0  \n",
       "⋮   ⋮   ⋮       ⋮    ⋮  \n",
       "292 48  0       211  0  \n",
       "293 47  1       257  0  \n",
       "294 53  0       182  0  "
      ]
     },
     "metadata": {},
     "output_type": "display_data"
    }
   ],
   "source": [
    "# Select and mutate columns that we're interested in into their appropriate datatypes\n",
    "# Age, oldpeak, cholestrol\n",
    "\n",
    "heart_data <- heart_all_data |>\n",
    "              select(age, oldpeak, chol, num) |>\n",
    "              mutate(num = case_when(num>=1 ~ 1,\n",
    "                                    TRUE ~ 0)) |>\n",
    "              mutate(age = as.integer(age), oldpeak = as.double(oldpeak), chol = as.integer(chol), num = as.factor(num))\n",
    "heart_data"
   ]
  },
  {
   "cell_type": "markdown",
   "id": "04986ad4-f520-42f3-95bd-85b29ad862c8",
   "metadata": {},
   "source": [
    "## Splitting the data into training and testing set\n",
    "We're splitting the data where 75% will be training and 25% will be testing"
   ]
  },
  {
   "cell_type": "code",
   "execution_count": 4,
   "id": "dd555eed-ab5a-495b-8070-6c1c38c53994",
   "metadata": {},
   "outputs": [
    {
     "data": {
      "text/html": [
       "<table class=\"dataframe\">\n",
       "<caption>A tibble: 220 × 4</caption>\n",
       "<thead>\n",
       "\t<tr><th scope=col>age</th><th scope=col>oldpeak</th><th scope=col>chol</th><th scope=col>num</th></tr>\n",
       "\t<tr><th scope=col>&lt;int&gt;</th><th scope=col>&lt;dbl&gt;</th><th scope=col>&lt;int&gt;</th><th scope=col>&lt;fct&gt;</th></tr>\n",
       "</thead>\n",
       "<tbody>\n",
       "\t<tr><td>37</td><td>0</td><td>283</td><td>0</td></tr>\n",
       "\t<tr><td>54</td><td>0</td><td> -9</td><td>0</td></tr>\n",
       "\t<tr><td>45</td><td>0</td><td>237</td><td>0</td></tr>\n",
       "\t<tr><td>⋮</td><td>⋮</td><td>⋮</td><td>⋮</td></tr>\n",
       "\t<tr><td>52</td><td>1.0</td><td>298</td><td>1</td></tr>\n",
       "\t<tr><td>52</td><td>1.5</td><td> -9</td><td>1</td></tr>\n",
       "\t<tr><td>49</td><td>2.0</td><td>222</td><td>1</td></tr>\n",
       "</tbody>\n",
       "</table>\n"
      ],
      "text/latex": [
       "A tibble: 220 × 4\n",
       "\\begin{tabular}{llll}\n",
       " age & oldpeak & chol & num\\\\\n",
       " <int> & <dbl> & <int> & <fct>\\\\\n",
       "\\hline\n",
       "\t 37 & 0 & 283 & 0\\\\\n",
       "\t 54 & 0 &  -9 & 0\\\\\n",
       "\t 45 & 0 & 237 & 0\\\\\n",
       "\t ⋮ & ⋮ & ⋮ & ⋮\\\\\n",
       "\t 52 & 1.0 & 298 & 1\\\\\n",
       "\t 52 & 1.5 &  -9 & 1\\\\\n",
       "\t 49 & 2.0 & 222 & 1\\\\\n",
       "\\end{tabular}\n"
      ],
      "text/markdown": [
       "\n",
       "A tibble: 220 × 4\n",
       "\n",
       "| age &lt;int&gt; | oldpeak &lt;dbl&gt; | chol &lt;int&gt; | num &lt;fct&gt; |\n",
       "|---|---|---|---|\n",
       "| 37 | 0 | 283 | 0 |\n",
       "| 54 | 0 |  -9 | 0 |\n",
       "| 45 | 0 | 237 | 0 |\n",
       "| ⋮ | ⋮ | ⋮ | ⋮ |\n",
       "| 52 | 1.0 | 298 | 1 |\n",
       "| 52 | 1.5 |  -9 | 1 |\n",
       "| 49 | 2.0 | 222 | 1 |\n",
       "\n"
      ],
      "text/plain": [
       "    age oldpeak chol num\n",
       "1   37  0       283  0  \n",
       "2   54  0        -9  0  \n",
       "3   45  0       237  0  \n",
       "⋮   ⋮   ⋮       ⋮    ⋮  \n",
       "218 52  1.0     298  1  \n",
       "219 52  1.5      -9  1  \n",
       "220 49  2.0     222  1  "
      ]
     },
     "metadata": {},
     "output_type": "display_data"
    },
    {
     "data": {
      "text/html": [
       "<table class=\"dataframe\">\n",
       "<caption>A tibble: 74 × 4</caption>\n",
       "<thead>\n",
       "\t<tr><th scope=col>age</th><th scope=col>oldpeak</th><th scope=col>chol</th><th scope=col>num</th></tr>\n",
       "\t<tr><th scope=col>&lt;int&gt;</th><th scope=col>&lt;dbl&gt;</th><th scope=col>&lt;int&gt;</th><th scope=col>&lt;fct&gt;</th></tr>\n",
       "</thead>\n",
       "<tbody>\n",
       "\t<tr><td>40</td><td>0</td><td>289</td><td>0</td></tr>\n",
       "\t<tr><td>39</td><td>0</td><td>339</td><td>0</td></tr>\n",
       "\t<tr><td>48</td><td>0</td><td>284</td><td>0</td></tr>\n",
       "\t<tr><td>⋮</td><td>⋮</td><td>⋮</td><td>⋮</td></tr>\n",
       "\t<tr><td>51</td><td>2</td><td>220</td><td>0</td></tr>\n",
       "\t<tr><td>51</td><td>0</td><td>190</td><td>0</td></tr>\n",
       "\t<tr><td>59</td><td>0</td><td> -9</td><td>0</td></tr>\n",
       "</tbody>\n",
       "</table>\n"
      ],
      "text/latex": [
       "A tibble: 74 × 4\n",
       "\\begin{tabular}{llll}\n",
       " age & oldpeak & chol & num\\\\\n",
       " <int> & <dbl> & <int> & <fct>\\\\\n",
       "\\hline\n",
       "\t 40 & 0 & 289 & 0\\\\\n",
       "\t 39 & 0 & 339 & 0\\\\\n",
       "\t 48 & 0 & 284 & 0\\\\\n",
       "\t ⋮ & ⋮ & ⋮ & ⋮\\\\\n",
       "\t 51 & 2 & 220 & 0\\\\\n",
       "\t 51 & 0 & 190 & 0\\\\\n",
       "\t 59 & 0 &  -9 & 0\\\\\n",
       "\\end{tabular}\n"
      ],
      "text/markdown": [
       "\n",
       "A tibble: 74 × 4\n",
       "\n",
       "| age &lt;int&gt; | oldpeak &lt;dbl&gt; | chol &lt;int&gt; | num &lt;fct&gt; |\n",
       "|---|---|---|---|\n",
       "| 40 | 0 | 289 | 0 |\n",
       "| 39 | 0 | 339 | 0 |\n",
       "| 48 | 0 | 284 | 0 |\n",
       "| ⋮ | ⋮ | ⋮ | ⋮ |\n",
       "| 51 | 2 | 220 | 0 |\n",
       "| 51 | 0 | 190 | 0 |\n",
       "| 59 | 0 |  -9 | 0 |\n",
       "\n"
      ],
      "text/plain": [
       "   age oldpeak chol num\n",
       "1  40  0       289  0  \n",
       "2  39  0       339  0  \n",
       "3  48  0       284  0  \n",
       "⋮  ⋮   ⋮       ⋮    ⋮  \n",
       "72 51  2       220  0  \n",
       "73 51  0       190  0  \n",
       "74 59  0        -9  0  "
      ]
     },
     "metadata": {},
     "output_type": "display_data"
    }
   ],
   "source": [
    "heart_split <- initial_split(heart_data, prop = 0.75, strata = num)\n",
    "heart_training <- training(heart_split)\n",
    "heart_testing <- testing(heart_split)\n",
    "\n",
    "heart_training\n",
    "heart_testing"
   ]
  },
  {
   "cell_type": "code",
   "execution_count": 18,
   "id": "46f020ae-665e-4fc2-a4c1-cab01b027be6",
   "metadata": {},
   "outputs": [
    {
     "name": "stderr",
     "output_type": "stream",
     "text": [
      "Warning message in mean.default(.x[[i]], ...):\n",
      "“argument is not numeric or logical: returning NA”\n"
     ]
    }
   ],
   "source": [
    "# Summary of the dataset\n",
    "mean_data <- heart_training |>\n",
    "             map_df(mean, na.rm = TRUE)"
   ]
  },
  {
   "cell_type": "code",
   "execution_count": 14,
   "id": "e0c09801-b74c-40b3-94fc-4e0876a7fc42",
   "metadata": {},
   "outputs": [
    {
     "data": {
      "image/png": "[encoded data removed]",
      "text/plain": [
       "plot without title"
      ]
     },
     "metadata": {
      "image/png": {
       "height": 420,
       "width": 420
      }
     },
     "output_type": "display_data"
    },
    {
     "data": {
      "image/png": "[encoded data removed]",
      "text/plain": [
       "plot without title"
      ]
     },
     "metadata": {
      "image/png": {
       "height": 420,
       "width": 420
      }
     },
     "output_type": "display_data"
    }
   ],
   "source": [
    "firstPlot <- heart_training |>\n",
    "             ggplot(aes(x = age, y = chol, color = num)) +\n",
    "             geom_point(alpha=0.75)\n",
    "secondPlot <- heart_training |>\n",
    "             ggplot(aes(x=num, y=oldpeak)) +\n",
    "             geom_bar(stat = \"identity\")\n",
    "firstPlot\n",
    "secondPlot"
   ]
  },
  {
   "cell_type": "code",
   "execution_count": null,
   "id": "81aea364-36df-4dc0-be46-f84576242c65",
   "metadata": {},
   "outputs": [],
   "source": []
  }
 ],
 "metadata": {
  "kernelspec": {
   "display_name": "R",
   "language": "R",
   "name": "ir"
  },
  "language_info": {
   "codemirror_mode": "r",
   "file_extension": ".r",
   "mimetype": "text/x-r-source",
   "name": "R",
   "pygments_lexer": "r",
   "version": "4.1.3"
  }
 },
 "nbformat": 4,
 "nbformat_minor": 5
}
