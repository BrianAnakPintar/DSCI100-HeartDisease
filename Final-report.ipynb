{
 "cells": [
  {
   "cell_type": "markdown",
   "id": "cbf9781a-68cf-41f2-bcfa-439df7708c30",
   "metadata": {},
   "source": [
    "### Project Report\n",
    "## Classifying Heart Disease by Age, Cholestrol levels and ST Depression\n",
    "### Names go here\n",
    "\n",
    "# Introduction\n",
    "In this project, we are predicting the likelihood of an individual to have heart disease based on their age, cholesterol levels, and ST depression induced by exercise relative to rest. \n",
    "Heart disease refers to various conditions that affect the heart, including diseases related to the blood vessel, heartbeat frequency, heart muscles and heart valve. Most of the conditions can be prevented or treated with lifestyle changes. Anatomically, they are caused by atherosclerosis, the build-up of fatty deposit in the walls of the coronary arteries.\n",
    "Accordingly, age and the likelihood of having a heart disease have a positive correlation as aging can cause changes to the blood vessels and heart. Cholesterol is a lipid that provides vital functions to the cells in the body, but high cholesterol level can create the fatty deposit. Lastly, ST depression refers to the findings on an electrocardiogram. A valid ECG finding for the identification of obstructive coronary atherosclerosis is exercise-induced ST segment depression. It has been linked to heart diseases.\n",
    "The dataset that we are using is the Hungarian data, collected on March 15, 1990, reprocessed on July 23, 1996. The database originally contains 76 attributes, but all published experiments refer to using a subset of 14. "
   ]
  },
  {
   "cell_type": "markdown",
   "id": "32985ff3-4a98-4665-9da0-6df5cb217c55",
   "metadata": {},
   "source": [
    "# Preliminary exploratory data analysis"
   ]
  },
  {
   "cell_type": "markdown",
   "id": "23c607b4-0058-4821-a620-29124ed80956",
   "metadata": {},
   "source": [
    "### Preprocessing Data\n",
    "Importing libraries and specifying plot format"
   ]
  },
  {
   "cell_type": "code",
   "execution_count": 2,
   "id": "83983e6e-9a23-45aa-a15c-337e03e9f072",
   "metadata": {},
   "outputs": [
    {
     "name": "stderr",
     "output_type": "stream",
     "text": [
      "── \u001b[1mAttaching packages\u001b[22m ────────────────────────────────────── tidymodels 1.0.0 ──\n",
      "\n",
      "\u001b[32m✔\u001b[39m \u001b[34mbroom       \u001b[39m 1.0.0     \u001b[32m✔\u001b[39m \u001b[34mrecipes     \u001b[39m 1.0.1\n",
      "\u001b[32m✔\u001b[39m \u001b[34mdials       \u001b[39m 1.0.0     \u001b[32m✔\u001b[39m \u001b[34mrsample     \u001b[39m 1.0.0\n",
      "\u001b[32m✔\u001b[39m \u001b[34mdplyr       \u001b[39m 1.0.9     \u001b[32m✔\u001b[39m \u001b[34mtibble      \u001b[39m 3.1.7\n",
      "\u001b[32m✔\u001b[39m \u001b[34mggplot2     \u001b[39m 3.3.6     \u001b[32m✔\u001b[39m \u001b[34mtidyr       \u001b[39m 1.2.0\n",
      "\u001b[32m✔\u001b[39m \u001b[34minfer       \u001b[39m 1.0.2     \u001b[32m✔\u001b[39m \u001b[34mtune        \u001b[39m 1.0.0\n",
      "\u001b[32m✔\u001b[39m \u001b[34mmodeldata   \u001b[39m 1.0.0     \u001b[32m✔\u001b[39m \u001b[34mworkflows   \u001b[39m 1.0.0\n",
      "\u001b[32m✔\u001b[39m \u001b[34mparsnip     \u001b[39m 1.0.0     \u001b[32m✔\u001b[39m \u001b[34mworkflowsets\u001b[39m 1.0.0\n",
      "\u001b[32m✔\u001b[39m \u001b[34mpurrr       \u001b[39m 0.3.4     \u001b[32m✔\u001b[39m \u001b[34myardstick   \u001b[39m 1.0.0\n",
      "\n",
      "── \u001b[1mConflicts\u001b[22m ───────────────────────────────────────── tidymodels_conflicts() ──\n",
      "\u001b[31m✖\u001b[39m \u001b[34mpurrr\u001b[39m::\u001b[32mdiscard()\u001b[39m masks \u001b[34mscales\u001b[39m::discard()\n",
      "\u001b[31m✖\u001b[39m \u001b[34mdplyr\u001b[39m::\u001b[32mfilter()\u001b[39m  masks \u001b[34mstats\u001b[39m::filter()\n",
      "\u001b[31m✖\u001b[39m \u001b[34mdplyr\u001b[39m::\u001b[32mlag()\u001b[39m     masks \u001b[34mstats\u001b[39m::lag()\n",
      "\u001b[31m✖\u001b[39m \u001b[34mrecipes\u001b[39m::\u001b[32mstep()\u001b[39m  masks \u001b[34mstats\u001b[39m::step()\n",
      "\u001b[34m•\u001b[39m Dig deeper into tidy modeling with R at \u001b[32mhttps://www.tmwr.org\u001b[39m\n",
      "\n",
      "── \u001b[1mAttaching packages\u001b[22m ─────────────────────────────────────── tidyverse 1.3.1 ──\n",
      "\n",
      "\u001b[32m✔\u001b[39m \u001b[34mreadr  \u001b[39m 2.1.2     \u001b[32m✔\u001b[39m \u001b[34mforcats\u001b[39m 0.5.1\n",
      "\u001b[32m✔\u001b[39m \u001b[34mstringr\u001b[39m 1.4.0     \n",
      "\n",
      "── \u001b[1mConflicts\u001b[22m ────────────────────────────────────────── tidyverse_conflicts() ──\n",
      "\u001b[31m✖\u001b[39m \u001b[34mreadr\u001b[39m::\u001b[32mcol_factor()\u001b[39m masks \u001b[34mscales\u001b[39m::col_factor()\n",
      "\u001b[31m✖\u001b[39m \u001b[34mpurrr\u001b[39m::\u001b[32mdiscard()\u001b[39m    masks \u001b[34mscales\u001b[39m::discard()\n",
      "\u001b[31m✖\u001b[39m \u001b[34mdplyr\u001b[39m::\u001b[32mfilter()\u001b[39m     masks \u001b[34mstats\u001b[39m::filter()\n",
      "\u001b[31m✖\u001b[39m \u001b[34mstringr\u001b[39m::\u001b[32mfixed()\u001b[39m    masks \u001b[34mrecipes\u001b[39m::fixed()\n",
      "\u001b[31m✖\u001b[39m \u001b[34mdplyr\u001b[39m::\u001b[32mlag()\u001b[39m        masks \u001b[34mstats\u001b[39m::lag()\n",
      "\u001b[31m✖\u001b[39m \u001b[34mreadr\u001b[39m::\u001b[32mspec()\u001b[39m       masks \u001b[34myardstick\u001b[39m::spec()\n",
      "\n",
      "Registered S3 method overwritten by 'GGally':\n",
      "  method from   \n",
      "  +.gg   ggplot2\n",
      "\n"
     ]
    }
   ],
   "source": [
    "# Loading libraries\n",
    "library(tidymodels)\n",
    "library(tidyverse)\n",
    "library(GGally)\n",
    "\n",
    "# Plot format\n",
    "options(repr.matrix.max.rows = 6)"
   ]
  },
  {
   "cell_type": "markdown",
   "id": "ef84fcaa-bc74-4ab5-87d1-d721e6ab77b7",
   "metadata": {},
   "source": [
    "### Loading the dataset\n",
    "Here we read our data using `read_delim()` as well as setting its column names accordingly"
   ]
  },
  {
   "cell_type": "code",
   "execution_count": 3,
   "id": "a0ab423e-b31e-4e6c-a66b-b1421eda1727",
   "metadata": {},
   "outputs": [
    {
     "name": "stderr",
     "output_type": "stream",
     "text": [
      "\u001b[1mRows: \u001b[22m\u001b[34m294\u001b[39m \u001b[1mColumns: \u001b[22m\u001b[34m14\u001b[39m\n",
      "\u001b[36m──\u001b[39m \u001b[1mColumn specification\u001b[22m \u001b[36m────────────────────────────────────────────────────────\u001b[39m\n",
      "\u001b[1mDelimiter:\u001b[22m \" \"\n",
      "\u001b[32mdbl\u001b[39m (14): age, sex, cp, trestbps, chol, fbs, restecg, thalach, exang, oldpea...\n",
      "\n",
      "\u001b[36mℹ\u001b[39m Use `spec()` to retrieve the full column specification for this data.\n",
      "\u001b[36mℹ\u001b[39m Specify the column types or set `show_col_types = FALSE` to quiet this message.\n"
     ]
    },
    {
     "data": {
      "text/html": [
       "<table class=\"dataframe\">\n",
       "<caption>A spec_tbl_df: 294 × 14</caption>\n",
       "<thead>\n",
       "\t<tr><th scope=col>age</th><th scope=col>sex</th><th scope=col>cp</th><th scope=col>trestbps</th><th scope=col>chol</th><th scope=col>fbs</th><th scope=col>restecg</th><th scope=col>thalach</th><th scope=col>exang</th><th scope=col>oldpeak</th><th scope=col>slope</th><th scope=col>ca</th><th scope=col>thal</th><th scope=col>num</th></tr>\n",
       "\t<tr><th scope=col>&lt;dbl&gt;</th><th scope=col>&lt;dbl&gt;</th><th scope=col>&lt;dbl&gt;</th><th scope=col>&lt;dbl&gt;</th><th scope=col>&lt;dbl&gt;</th><th scope=col>&lt;dbl&gt;</th><th scope=col>&lt;dbl&gt;</th><th scope=col>&lt;dbl&gt;</th><th scope=col>&lt;dbl&gt;</th><th scope=col>&lt;dbl&gt;</th><th scope=col>&lt;dbl&gt;</th><th scope=col>&lt;dbl&gt;</th><th scope=col>&lt;dbl&gt;</th><th scope=col>&lt;dbl&gt;</th></tr>\n",
       "</thead>\n",
       "<tbody>\n",
       "\t<tr><td>40</td><td>1</td><td>2</td><td>140</td><td>289</td><td>0</td><td>0</td><td>172</td><td>0</td><td>0</td><td>-9</td><td>-9</td><td>-9</td><td>0</td></tr>\n",
       "\t<tr><td>49</td><td>0</td><td>3</td><td>160</td><td>180</td><td>0</td><td>0</td><td>156</td><td>0</td><td>1</td><td> 2</td><td>-9</td><td>-9</td><td>1</td></tr>\n",
       "\t<tr><td>37</td><td>1</td><td>2</td><td>130</td><td>283</td><td>0</td><td>1</td><td> 98</td><td>0</td><td>0</td><td>-9</td><td>-9</td><td>-9</td><td>0</td></tr>\n",
       "\t<tr><td>⋮</td><td>⋮</td><td>⋮</td><td>⋮</td><td>⋮</td><td>⋮</td><td>⋮</td><td>⋮</td><td>⋮</td><td>⋮</td><td>⋮</td><td>⋮</td><td>⋮</td><td>⋮</td></tr>\n",
       "\t<tr><td>48</td><td>1</td><td>3</td><td>110</td><td>211</td><td>0</td><td>0</td><td>138</td><td>0</td><td>0</td><td>-9</td><td>-9</td><td> 6</td><td>0</td></tr>\n",
       "\t<tr><td>47</td><td>0</td><td>2</td><td>140</td><td>257</td><td>0</td><td>0</td><td>135</td><td>0</td><td>1</td><td> 1</td><td>-9</td><td>-9</td><td>0</td></tr>\n",
       "\t<tr><td>53</td><td>1</td><td>4</td><td>130</td><td>182</td><td>0</td><td>0</td><td>148</td><td>0</td><td>0</td><td>-9</td><td>-9</td><td>-9</td><td>0</td></tr>\n",
       "</tbody>\n",
       "</table>\n"
      ],
      "text/latex": [
       "A spec\\_tbl\\_df: 294 × 14\n",
       "\\begin{tabular}{llllllllllllll}\n",
       " age & sex & cp & trestbps & chol & fbs & restecg & thalach & exang & oldpeak & slope & ca & thal & num\\\\\n",
       " <dbl> & <dbl> & <dbl> & <dbl> & <dbl> & <dbl> & <dbl> & <dbl> & <dbl> & <dbl> & <dbl> & <dbl> & <dbl> & <dbl>\\\\\n",
       "\\hline\n",
       "\t 40 & 1 & 2 & 140 & 289 & 0 & 0 & 172 & 0 & 0 & -9 & -9 & -9 & 0\\\\\n",
       "\t 49 & 0 & 3 & 160 & 180 & 0 & 0 & 156 & 0 & 1 &  2 & -9 & -9 & 1\\\\\n",
       "\t 37 & 1 & 2 & 130 & 283 & 0 & 1 &  98 & 0 & 0 & -9 & -9 & -9 & 0\\\\\n",
       "\t ⋮ & ⋮ & ⋮ & ⋮ & ⋮ & ⋮ & ⋮ & ⋮ & ⋮ & ⋮ & ⋮ & ⋮ & ⋮ & ⋮\\\\\n",
       "\t 48 & 1 & 3 & 110 & 211 & 0 & 0 & 138 & 0 & 0 & -9 & -9 &  6 & 0\\\\\n",
       "\t 47 & 0 & 2 & 140 & 257 & 0 & 0 & 135 & 0 & 1 &  1 & -9 & -9 & 0\\\\\n",
       "\t 53 & 1 & 4 & 130 & 182 & 0 & 0 & 148 & 0 & 0 & -9 & -9 & -9 & 0\\\\\n",
       "\\end{tabular}\n"
      ],
      "text/markdown": [
       "\n",
       "A spec_tbl_df: 294 × 14\n",
       "\n",
       "| age &lt;dbl&gt; | sex &lt;dbl&gt; | cp &lt;dbl&gt; | trestbps &lt;dbl&gt; | chol &lt;dbl&gt; | fbs &lt;dbl&gt; | restecg &lt;dbl&gt; | thalach &lt;dbl&gt; | exang &lt;dbl&gt; | oldpeak &lt;dbl&gt; | slope &lt;dbl&gt; | ca &lt;dbl&gt; | thal &lt;dbl&gt; | num &lt;dbl&gt; |\n",
       "|---|---|---|---|---|---|---|---|---|---|---|---|---|---|\n",
       "| 40 | 1 | 2 | 140 | 289 | 0 | 0 | 172 | 0 | 0 | -9 | -9 | -9 | 0 |\n",
       "| 49 | 0 | 3 | 160 | 180 | 0 | 0 | 156 | 0 | 1 |  2 | -9 | -9 | 1 |\n",
       "| 37 | 1 | 2 | 130 | 283 | 0 | 1 |  98 | 0 | 0 | -9 | -9 | -9 | 0 |\n",
       "| ⋮ | ⋮ | ⋮ | ⋮ | ⋮ | ⋮ | ⋮ | ⋮ | ⋮ | ⋮ | ⋮ | ⋮ | ⋮ | ⋮ |\n",
       "| 48 | 1 | 3 | 110 | 211 | 0 | 0 | 138 | 0 | 0 | -9 | -9 |  6 | 0 |\n",
       "| 47 | 0 | 2 | 140 | 257 | 0 | 0 | 135 | 0 | 1 |  1 | -9 | -9 | 0 |\n",
       "| 53 | 1 | 4 | 130 | 182 | 0 | 0 | 148 | 0 | 0 | -9 | -9 | -9 | 0 |\n",
       "\n"
      ],
      "text/plain": [
       "    age sex cp trestbps chol fbs restecg thalach exang oldpeak slope ca thal\n",
       "1   40  1   2  140      289  0   0       172     0     0       -9    -9 -9  \n",
       "2   49  0   3  160      180  0   0       156     0     1        2    -9 -9  \n",
       "3   37  1   2  130      283  0   1        98     0     0       -9    -9 -9  \n",
       "⋮   ⋮   ⋮   ⋮  ⋮        ⋮    ⋮   ⋮       ⋮       ⋮     ⋮       ⋮     ⋮  ⋮   \n",
       "292 48  1   3  110      211  0   0       138     0     0       -9    -9  6  \n",
       "293 47  0   2  140      257  0   0       135     0     1        1    -9 -9  \n",
       "294 53  1   4  130      182  0   0       148     0     0       -9    -9 -9  \n",
       "    num\n",
       "1   0  \n",
       "2   1  \n",
       "3   0  \n",
       "⋮   ⋮  \n",
       "292 0  \n",
       "293 0  \n",
       "294 0  "
      ]
     },
     "metadata": {},
     "output_type": "display_data"
    }
   ],
   "source": [
    "heart_all_data <- read_delim(\"https://archive.ics.uci.edu/ml/machine-learning-databases/heart-disease/reprocessed.hungarian.data\", delim=\" \",\n",
    "                  col_names = c(\"age\", \"sex\", \"cp\", \"trestbps\", \"chol\", \n",
    "                              \"fbs\", \"restecg\", \"thalach\", \"exang\", \n",
    "                              \"oldpeak\", \"slope\", \"ca\", \"thal\", \n",
    "                              \"num\"))\n",
    "heart_all_data"
   ]
  },
  {
   "cell_type": "markdown",
   "id": "e7e54946-ddda-4fe5-a651-b53d6bb43cac",
   "metadata": {},
   "source": [
    "Figure 1: This figure shows the data from the UCI database with the appropriate column names"
   ]
  },
  {
   "cell_type": "markdown",
   "id": "47941fe5-8032-4b80-bcfb-17966f1a917b",
   "metadata": {},
   "source": [
    "### Cleaning data\n",
    "After loading our data, we can see that some columns have different datatypes than what is stated from the website, we will proceed to clean these column. Moreover, we will also create a new column called diag where the the value `TRUE` means patient has a heart disease and `FALSE` otherwise."
   ]
  },
  {
   "cell_type": "code",
   "execution_count": 4,
   "id": "ecb9cfbc-40f1-4203-acb9-35c1ae4e19aa",
   "metadata": {},
   "outputs": [
    {
     "data": {
      "text/html": [
       "<table class=\"dataframe\">\n",
       "<caption>A tibble: 294 × 5</caption>\n",
       "<thead>\n",
       "\t<tr><th scope=col>age</th><th scope=col>oldpeak</th><th scope=col>chol</th><th scope=col>num</th><th scope=col>diag</th></tr>\n",
       "\t<tr><th scope=col>&lt;int&gt;</th><th scope=col>&lt;dbl&gt;</th><th scope=col>&lt;int&gt;</th><th scope=col>&lt;fct&gt;</th><th scope=col>&lt;lgl&gt;</th></tr>\n",
       "</thead>\n",
       "<tbody>\n",
       "\t<tr><td>40</td><td>0</td><td>289</td><td>0</td><td>FALSE</td></tr>\n",
       "\t<tr><td>49</td><td>1</td><td>180</td><td>1</td><td> TRUE</td></tr>\n",
       "\t<tr><td>37</td><td>0</td><td>283</td><td>0</td><td>FALSE</td></tr>\n",
       "\t<tr><td>⋮</td><td>⋮</td><td>⋮</td><td>⋮</td><td>⋮</td></tr>\n",
       "\t<tr><td>48</td><td>0</td><td>211</td><td>0</td><td>FALSE</td></tr>\n",
       "\t<tr><td>47</td><td>1</td><td>257</td><td>0</td><td>FALSE</td></tr>\n",
       "\t<tr><td>53</td><td>0</td><td>182</td><td>0</td><td>FALSE</td></tr>\n",
       "</tbody>\n",
       "</table>\n"
      ],
      "text/latex": [
       "A tibble: 294 × 5\n",
       "\\begin{tabular}{lllll}\n",
       " age & oldpeak & chol & num & diag\\\\\n",
       " <int> & <dbl> & <int> & <fct> & <lgl>\\\\\n",
       "\\hline\n",
       "\t 40 & 0 & 289 & 0 & FALSE\\\\\n",
       "\t 49 & 1 & 180 & 1 &  TRUE\\\\\n",
       "\t 37 & 0 & 283 & 0 & FALSE\\\\\n",
       "\t ⋮ & ⋮ & ⋮ & ⋮ & ⋮\\\\\n",
       "\t 48 & 0 & 211 & 0 & FALSE\\\\\n",
       "\t 47 & 1 & 257 & 0 & FALSE\\\\\n",
       "\t 53 & 0 & 182 & 0 & FALSE\\\\\n",
       "\\end{tabular}\n"
      ],
      "text/markdown": [
       "\n",
       "A tibble: 294 × 5\n",
       "\n",
       "| age &lt;int&gt; | oldpeak &lt;dbl&gt; | chol &lt;int&gt; | num &lt;fct&gt; | diag &lt;lgl&gt; |\n",
       "|---|---|---|---|---|\n",
       "| 40 | 0 | 289 | 0 | FALSE |\n",
       "| 49 | 1 | 180 | 1 |  TRUE |\n",
       "| 37 | 0 | 283 | 0 | FALSE |\n",
       "| ⋮ | ⋮ | ⋮ | ⋮ | ⋮ |\n",
       "| 48 | 0 | 211 | 0 | FALSE |\n",
       "| 47 | 1 | 257 | 0 | FALSE |\n",
       "| 53 | 0 | 182 | 0 | FALSE |\n",
       "\n"
      ],
      "text/plain": [
       "    age oldpeak chol num diag \n",
       "1   40  0       289  0   FALSE\n",
       "2   49  1       180  1    TRUE\n",
       "3   37  0       283  0   FALSE\n",
       "⋮   ⋮   ⋮       ⋮    ⋮   ⋮    \n",
       "292 48  0       211  0   FALSE\n",
       "293 47  1       257  0   FALSE\n",
       "294 53  0       182  0   FALSE"
      ]
     },
     "metadata": {},
     "output_type": "display_data"
    }
   ],
   "source": [
    "heart_data <- heart_all_data |>\n",
    "              select(age, oldpeak, chol, num) |>\n",
    "              mutate(diag = case_when(num>=1 ~ TRUE,\n",
    "                                    TRUE ~ FALSE)) |>\n",
    "              mutate(age = as.integer(age), oldpeak = as.double(oldpeak), chol = as.integer(chol), num = as.factor(num))\n",
    "heart_data"
   ]
  },
  {
   "cell_type": "markdown",
   "id": "5d866270-aa83-44f0-9cfa-749b3ee14087",
   "metadata": {},
   "source": [
    "Figure 2: This figure shows the column names that we are interested in. It also has an additional column called diag which shows the diagnosis"
   ]
  },
  {
   "cell_type": "code",
   "execution_count": null,
   "id": "006c5c88-82ab-4842-a9d5-c5c13d4187db",
   "metadata": {},
   "outputs": [],
   "source": [
    "#code for figure 1"
   ]
  },
  {
   "cell_type": "markdown",
   "id": "e6dde52f-58a8-4c49-980e-84d86ee1e21f",
   "metadata": {},
   "source": [
    "Figure 1: Based on this we can see...."
   ]
  },
  {
   "cell_type": "code",
   "execution_count": null,
   "id": "df929902-59ea-4830-83c7-d9445314376d",
   "metadata": {},
   "outputs": [],
   "source": [
    "# Code for figure 2"
   ]
  },
  {
   "cell_type": "code",
   "execution_count": null,
   "id": "78f4db8b-bab6-4ac0-88c6-40fcddfe150f",
   "metadata": {},
   "outputs": [],
   "source": []
  },
  {
   "cell_type": "markdown",
   "id": "bb71a139-df7f-45c2-904d-c6103b29bc92",
   "metadata": {},
   "source": [
    "figure 1"
   ]
  },
  {
   "cell_type": "markdown",
   "id": "31d3466e-1fea-4bd2-a4ea-91913735833a",
   "metadata": {},
   "source": [
    "### Splitting our data\n",
    "After our data is clean and we have selected the columns that we care about we can start by splitting our data into testing and training. To make sure the split is reproducible we use `set.seed(2022)` and split our data into 75% training and 25% testing. We would also like for our data to be split according to the `diag` column so that we have a relatively equal proportion when splitting."
   ]
  },
  {
   "cell_type": "code",
   "execution_count": 13,
   "id": "cbe30704-6760-4e65-8cc6-385a198996c4",
   "metadata": {},
   "outputs": [],
   "source": [
    "set.seed(2022)\n",
    "heart_split <- initial_split(heart_data, prop = 0.75, strata = diag)\n",
    "heart_training <- training(heart_split)\n",
    "heart_testing <- testing(heart_split)"
   ]
  },
  {
   "cell_type": "markdown",
   "id": "06317e68-0310-4f50-964d-9b6dca985506",
   "metadata": {},
   "source": [
    "### Details about our data\n",
    "Now that our data is split, let's take a look at a summary of our training data by using `summary()` which will show us details about our data"
   ]
  },
  {
   "cell_type": "code",
   "execution_count": 14,
   "id": "f8416250-2da8-4669-bbac-9ee4ed372dcb",
   "metadata": {},
   "outputs": [
    {
     "data": {
      "text/plain": [
       "      age           oldpeak            chol       num        diag        \n",
       " Min.   :29.00   Min.   :0.0000   Min.   : -9.0   0:141   Mode :logical  \n",
       " 1st Qu.:42.00   1st Qu.:0.0000   1st Qu.:197.5   1: 27   FALSE:141      \n",
       " Median :49.00   Median :0.0000   Median :235.5   2: 20   TRUE :79       \n",
       " Mean   :47.73   Mean   :0.5627   Mean   :231.5   3: 20                  \n",
       " 3rd Qu.:54.00   3rd Qu.:1.0000   3rd Qu.:280.2   4: 12                  \n",
       " Max.   :65.00   Max.   :5.0000   Max.   :603.0                          "
      ]
     },
     "metadata": {},
     "output_type": "display_data"
    }
   ],
   "source": [
    "summary(heart_training)"
   ]
  },
  {
   "cell_type": "markdown",
   "id": "6638fd64-c7f9-471b-82f6-9a42a1a5888d",
   "metadata": {},
   "source": [
    "Figure 3: Based on this figure we can see some details about our data."
   ]
  },
  {
   "cell_type": "markdown",
   "id": "9234e876-1804-4fa1-b5a9-418a96fb185a",
   "metadata": {},
   "source": [
    "In figure 3, we can see several interesting facts about our training data specifically:\n",
    "- The age column spans from 29 - 65 years old, and the average is about 47 years old\n",
    "- The oldpeak column has an average of 0.5627\n",
    "- The average cholestrol level is 231.5\n",
    "- Our training data contains 79 patients with a heart disease and 141 with no heart disease"
   ]
  },
  {
   "cell_type": "markdown",
   "id": "485bdaa0-833c-42b4-8d8e-2e1a559bccdd",
   "metadata": {},
   "source": [
    "### Proportion of patients\n",
    "Here we will take a look at the proportion of patients diagnosis within our data. This process will allow us to understand more about our data which will be useful when modelling."
   ]
  },
  {
   "cell_type": "code",
   "execution_count": 17,
   "id": "ec93ca40-e51d-42d9-84e0-d7c113046437",
   "metadata": {},
   "outputs": [
    {
     "data": {
      "text/html": [
       "<table class=\"dataframe\">\n",
       "<caption>A tibble: 2 × 3</caption>\n",
       "<thead>\n",
       "\t<tr><th scope=col>diag</th><th scope=col>n</th><th scope=col>proportions</th></tr>\n",
       "\t<tr><th scope=col>&lt;lgl&gt;</th><th scope=col>&lt;int&gt;</th><th scope=col>&lt;dbl&gt;</th></tr>\n",
       "</thead>\n",
       "<tbody>\n",
       "\t<tr><td>FALSE</td><td>141</td><td>0.6409091</td></tr>\n",
       "\t<tr><td> TRUE</td><td> 79</td><td>0.3590909</td></tr>\n",
       "</tbody>\n",
       "</table>\n"
      ],
      "text/latex": [
       "A tibble: 2 × 3\n",
       "\\begin{tabular}{lll}\n",
       " diag & n & proportions\\\\\n",
       " <lgl> & <int> & <dbl>\\\\\n",
       "\\hline\n",
       "\t FALSE & 141 & 0.6409091\\\\\n",
       "\t  TRUE &  79 & 0.3590909\\\\\n",
       "\\end{tabular}\n"
      ],
      "text/markdown": [
       "\n",
       "A tibble: 2 × 3\n",
       "\n",
       "| diag &lt;lgl&gt; | n &lt;int&gt; | proportions &lt;dbl&gt; |\n",
       "|---|---|---|\n",
       "| FALSE | 141 | 0.6409091 |\n",
       "|  TRUE |  79 | 0.3590909 |\n",
       "\n"
      ],
      "text/plain": [
       "  diag  n   proportions\n",
       "1 FALSE 141 0.6409091  \n",
       "2  TRUE  79 0.3590909  "
      ]
     },
     "metadata": {},
     "output_type": "display_data"
    }
   ],
   "source": [
    "proportion <- heart_training |>\n",
    "            count(diag) |>\n",
    "            mutate(proportions = n/nrow(heart_training))\n",
    "\n",
    "proportion"
   ]
  },
  {
   "cell_type": "markdown",
   "id": "d407b67f-3ec3-4141-8e7b-249b3a6c8fc2",
   "metadata": {},
   "source": [
    "Figure 4: The proportion of patients that are diagnosed with a heart disease"
   ]
  },
  {
   "cell_type": "markdown",
   "id": "4bd2499a-da57-442b-8639-6fbd8f876040",
   "metadata": {},
   "source": [
    "Figure 4 shows that about 35.9% of our data are patients diagnosed with a heart disease, while around 64% does not have a heart disease. Although ideally it would be better to have a 50/50 proportion, these proportion are good enough to train a model with. However, it might mean that our model will tend to diagnose patients with false negatives."
   ]
  },
  {
   "cell_type": "markdown",
   "id": "840327ed-9cce-4eae-b5d2-299d5527f031",
   "metadata": {},
   "source": [
    "## Visualizing our data"
   ]
  },
  {
   "cell_type": "markdown",
   "id": "fc985bc1-7a43-4ab8-95fe-2c4a431573ab",
   "metadata": {},
   "source": [
    "# Methods\n",
    "To predict if a patient has a heart disease we will create a KNN model with `age`, `chol` (serum cholesterol), `oldpeak` (ST depression induced by exercise relative to rest) as our predictors. We will use these values to predict `diag` using KNN.\n",
    "KNN is ... \n",
    "* EXPLAIN KNN HERE"
   ]
  },
  {
   "cell_type": "code",
   "execution_count": null,
   "id": "9cc79465-f3ca-465e-aecc-de6fe62362f6",
   "metadata": {},
   "outputs": [],
   "source": []
  }
 ],
 "metadata": {
  "kernelspec": {
   "display_name": "R",
   "language": "R",
   "name": "ir"
  },
  "language_info": {
   "codemirror_mode": "r",
   "file_extension": ".r",
   "mimetype": "text/x-r-source",
   "name": "R",
   "pygments_lexer": "r",
   "version": "4.1.3"
  }
 },
 "nbformat": 4,
 "nbformat_minor": 5
}
